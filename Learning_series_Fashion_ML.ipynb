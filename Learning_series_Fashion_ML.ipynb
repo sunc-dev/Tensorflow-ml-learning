{
  "nbformat": 4,
  "nbformat_minor": 0,
  "metadata": {
    "colab": {
      "name": "Learning series - Fashion ML",
      "provenance": [],
      "authorship_tag": "ABX9TyNfPG72JSyxlLY14dcr/Mr3",
      "include_colab_link": true
    },
    "kernelspec": {
      "name": "python3",
      "display_name": "Python 3"
    }
  },
  "cells": [
    {
      "cell_type": "markdown",
      "metadata": {
        "id": "view-in-github",
        "colab_type": "text"
      },
      "source": [
        "<a href=\"https://colab.research.google.com/github/sunc-dev/Tensorflow-ml-learning/blob/master/Learning_series_Fashion_ML.ipynb\" target=\"_parent\"><img src=\"https://colab.research.google.com/assets/colab-badge.svg\" alt=\"Open In Colab\"/></a>"
      ]
    },
    {
      "cell_type": "code",
      "metadata": {
        "id": "FuiPwSKCfbMO",
        "colab_type": "code",
        "colab": {
          "base_uri": "https://localhost:8080/",
          "height": 34
        },
        "outputId": "ff8f2e3a-aaed-4860-94a0-70e8eba53c3b"
      },
      "source": [
        "##Libraries and Dependancies\n",
        "import numpy as np\n",
        "import random\n",
        "import matplotlib.pyplot as plt\n",
        "\n",
        "## TensorFlow and Keras\n",
        "import tensorflow as tf\n",
        "from tensorflow import keras\n",
        "from skimage.color import rgb2gray\n",
        "\n",
        "print(tf.__version__)\n"
      ],
      "execution_count": 34,
      "outputs": [
        {
          "output_type": "stream",
          "text": [
            "1.15.0\n"
          ],
          "name": "stdout"
        }
      ]
    },
    {
      "cell_type": "code",
      "metadata": {
        "id": "uW-aKkoSkOJn",
        "colab_type": "code",
        "colab": {}
      },
      "source": [
        "##Define Functions\n",
        "\n",
        "## Image plot function\n",
        "def plot_images(image_set,image_sl):\n",
        "\n",
        "  for idx, id in enumerate(image_sl):\n",
        "    plt.subplot(1, 4, idx+1)\n",
        "    plt.axis('off')\n",
        "    plt.imshow(image_set[image_sl[idx]], cmap='gray')\n",
        "    plt.grid(False)\n",
        "    plt.colorbar()\n",
        "    plt.subplots_adjust(wspace=0.5)\n",
        "    \n",
        "    \n",
        "  plots = plt.show()\n",
        "  outputs = print(\"shape: {0}, min: {1}, max: {2}\".format(image_set[image_sl[idx]].shape, \n",
        "                                                  image_set[image_sl[idx]].min(), \n",
        "                                                  image_set[image_sl[idx]].max()))"
      ],
      "execution_count": 0,
      "outputs": []
    },
    {
      "cell_type": "code",
      "metadata": {
        "id": "FI8jSzJkfqbq",
        "colab_type": "code",
        "colab": {}
      },
      "source": [
        "## Import Fashion MNIST data\n",
        "\n",
        "fashionData = keras.datasets.fashion_mnist\n",
        "(train_images, train_labels), (test_images, test_labels) = fashionData.load_data()\n",
        "\n"
      ],
      "execution_count": 0,
      "outputs": []
    },
    {
      "cell_type": "code",
      "metadata": {
        "id": "80F1hwCfhL60",
        "colab_type": "code",
        "colab": {}
      },
      "source": [
        "## Define class names\n",
        "\n",
        "class_names = ['T-shirt/top', 'Trouser', 'Pullover', 'Dress', 'Coat',\n",
        "               'Sandal', 'Shirt', 'Sneaker', 'Bag', 'Ankle boot']"
      ],
      "execution_count": 0,
      "outputs": []
    },
    {
      "cell_type": "code",
      "metadata": {
        "id": "ylgOSwyzhQy4",
        "colab_type": "code",
        "colab": {
          "base_uri": "https://localhost:8080/",
          "height": 34
        },
        "outputId": "5949d933-8b4f-4a0f-8d4b-5449b379bd89"
      },
      "source": [
        "## Explore shape\n",
        "train_images.shape\n",
        "#Output defines # images and size of each label 60, 000 images each image size is 28x28"
      ],
      "execution_count": 23,
      "outputs": [
        {
          "output_type": "execute_result",
          "data": {
            "text/plain": [
              "(60000, 28, 28)"
            ]
          },
          "metadata": {
            "tags": []
          },
          "execution_count": 23
        }
      ]
    },
    {
      "cell_type": "code",
      "metadata": {
        "id": "wdIr5qwbhoQx",
        "colab_type": "code",
        "colab": {
          "base_uri": "https://localhost:8080/",
          "height": 34
        },
        "outputId": "9bb1e49a-36e4-4116-f8c6-f47305f429cd"
      },
      "source": [
        "## Explore # of labels\n",
        "len(train_labels)\n",
        "\n",
        "## Explore label object\n",
        "train_labels\n",
        "\n",
        "##Explore # of test labels\n",
        "len(test_labels)\n"
      ],
      "execution_count": 24,
      "outputs": [
        {
          "output_type": "execute_result",
          "data": {
            "text/plain": [
              "10000"
            ]
          },
          "metadata": {
            "tags": []
          },
          "execution_count": 24
        }
      ]
    },
    {
      "cell_type": "code",
      "metadata": {
        "id": "ubxTXab5hv7S",
        "colab_type": "code",
        "colab": {
          "base_uri": "https://localhost:8080/",
          "height": 255
        },
        "outputId": "1f62846e-4b99-4cda-88f1-292e7c7fd105"
      },
      "source": [
        "##Data preprocessing\n",
        "\n",
        "\n",
        "#Select random set of images \n",
        "image_sl = random.sample(range(1, len(train_images)), 4)\n",
        "print(image_sl)\n",
        "\n",
        "plot_images(train_images, image_sl)"
      ],
      "execution_count": 58,
      "outputs": [
        {
          "output_type": "stream",
          "text": [
            "[33196, 33676, 14288, 56757]\n"
          ],
          "name": "stdout"
        },
        {
          "output_type": "display_data",
          "data": {
            "image/png": "[encoded data removed]",
            "text/plain": [
              "<Figure size 432x288 with 8 Axes>"
            ]
          },
          "metadata": {
            "tags": []
          }
        },
        {
          "output_type": "stream",
          "text": [
            "shape: (28, 28), min: 0, max: 255\n"
          ],
          "name": "stdout"
        }
      ]
    },
    {
      "cell_type": "code",
      "metadata": {
        "id": "4ts4iWkZkMlS",
        "colab_type": "code",
        "colab": {
          "base_uri": "https://localhost:8080/",
          "height": 241
        },
        "outputId": "d97b27d3-3ca9-48d1-d628-22dee35390f2"
      },
      "source": [
        "#Convert images to gray scale\n",
        "\n",
        "train_images_g = train_images/255.0\n",
        "test_images_g = test_images/255.0\n",
        "\n",
        "plot_images(train_images_g, image_sl)"
      ],
      "execution_count": 57,
      "outputs": [
        {
          "output_type": "display_data",
          "data": {
            "image/png": "[encoded data removed]",
            "text/plain": [
              "<Figure size 432x288 with 8 Axes>"
            ]
          },
          "metadata": {
            "tags": []
          }
        },
        {
          "output_type": "stream",
          "text": [
            "shape: (28, 28), min: 0.0, max: 1.0\n"
          ],
          "name": "stdout"
        }
      ]
    },
    {
      "cell_type": "code",
      "metadata": {
        "id": "ZfH5J1bSngUn",
        "colab_type": "code",
        "colab": {
          "base_uri": "https://localhost:8080/",
          "height": 589
        },
        "outputId": "552398cf-d11e-46da-a778-83f715f75b32"
      },
      "source": [
        "plt.figure(figsize=(10,10))\n",
        "for i in range(25):\n",
        "    plt.subplot(5,5,i+1)\n",
        "    plt.xticks([])\n",
        "    plt.yticks([])\n",
        "    plt.grid(False)\n",
        "    plt.imshow(train_images_g[i], cmap=plt.cm.binary)\n",
        "    plt.xlabel(class_names[train_labels[i]])\n",
        "plt.show()"
      ],
      "execution_count": 61,
      "outputs": [
        {
          "output_type": "display_data",
          "data": {
            "image/png": "[encoded data removed]",
            "text/plain": [
              "<Figure size 720x720 with 25 Axes>"
            ]
          },
          "metadata": {
            "tags": []
          }
        }
      ]
    },
    {
      "cell_type": "code",
      "metadata": {
        "id": "fCkVOiRGnr5l",
        "colab_type": "code",
        "colab": {}
      },
      "source": [
        "## Building Model\n",
        "\n",
        "model = keras.Sequential([\n",
        "    keras.layers.Flatten(input_shape=(28,28)),\n",
        "    keras.layers.Dense(128, activation='relu'),\n",
        "    keras.layers.Dense(10)      \n",
        "])\n"
      ],
      "execution_count": 0,
      "outputs": []
    },
    {
      "cell_type": "code",
      "metadata": {
        "id": "HGecRrKFuLos",
        "colab_type": "code",
        "colab": {
          "base_uri": "https://localhost:8080/",
          "height": 391
        },
        "outputId": "11147eab-40ce-499b-fec1-f27cfc44f2cc"
      },
      "source": [
        "## Compile Model\n",
        "\n",
        "model.compile(optimizer='adam',\n",
        "              loss=tf.keras.losses.SparseCategoricalCrossentropy(from_logits=True),\n",
        "              metrics=['accuracy'])\n",
        "\n",
        "model.fit(train_images_g, train_labels, epochs=10)\n",
        "\n"
      ],
      "execution_count": 92,
      "outputs": [
        {
          "output_type": "stream",
          "text": [
            "Train on 60000 samples\n",
            "Epoch 1/10\n",
            "60000/60000 [==============================] - 4s 75us/sample - loss: 0.5004 - acc: 0.8256\n",
            "Epoch 2/10\n",
            "60000/60000 [==============================] - 5s 84us/sample - loss: 0.3787 - acc: 0.8630\n",
            "Epoch 3/10\n",
            "60000/60000 [==============================] - 4s 71us/sample - loss: 0.3407 - acc: 0.8762\n",
            "Epoch 4/10\n",
            "60000/60000 [==============================] - 4s 67us/sample - loss: 0.3141 - acc: 0.8849\n",
            "Epoch 5/10\n",
            "60000/60000 [==============================] - 4s 69us/sample - loss: 0.2987 - acc: 0.8901\n",
            "Epoch 6/10\n",
            "60000/60000 [==============================] - 4s 71us/sample - loss: 0.2816 - acc: 0.8955\n",
            "Epoch 7/10\n",
            "60000/60000 [==============================] - 4s 69us/sample - loss: 0.2692 - acc: 0.8996\n",
            "Epoch 8/10\n",
            "60000/60000 [==============================] - 4s 71us/sample - loss: 0.2581 - acc: 0.9036\n",
            "Epoch 9/10\n",
            "60000/60000 [==============================] - 4s 69us/sample - loss: 0.2497 - acc: 0.9064\n",
            "Epoch 10/10\n",
            "60000/60000 [==============================] - 4s 71us/sample - loss: 0.2388 - acc: 0.9113\n"
          ],
          "name": "stdout"
        },
        {
          "output_type": "execute_result",
          "data": {
            "text/plain": [
              "<tensorflow.python.keras.callbacks.History at 0x7f7d378b7198>"
            ]
          },
          "metadata": {
            "tags": []
          },
          "execution_count": 92
        }
      ]
    },
    {
      "cell_type": "code",
      "metadata": {
        "id": "B5v_gfSE0CZL",
        "colab_type": "code",
        "colab": {
          "base_uri": "https://localhost:8080/",
          "height": 34
        },
        "outputId": "e024f4f3-0c01-4308-9881-f91b39a965c1"
      },
      "source": [
        "test_loss, test_acc = model.evaluate(test_images_g, test_labels, verbose=2)"
      ],
      "execution_count": 93,
      "outputs": [
        {
          "output_type": "stream",
          "text": [
            "10000/10000 - 0s - loss: 0.3351 - acc: 0.8872\n"
          ],
          "name": "stdout"
        }
      ]
    },
    {
      "cell_type": "code",
      "metadata": {
        "id": "boLKRlMG4X73",
        "colab_type": "code",
        "colab": {
          "base_uri": "https://localhost:8080/",
          "height": 34
        },
        "outputId": "bdce4d35-75d4-4070-a3f5-07e0edd34856"
      },
      "source": [
        "##Run prediction \n",
        "predictions=model.predict(test_images_g)\n",
        "predictions[0]\n",
        "np.argmax(predictions[0])"
      ],
      "execution_count": 94,
      "outputs": [
        {
          "output_type": "execute_result",
          "data": {
            "text/plain": [
              "9"
            ]
          },
          "metadata": {
            "tags": []
          },
          "execution_count": 94
        }
      ]
    },
    {
      "cell_type": "code",
      "metadata": {
        "id": "Qslobejk5A6e",
        "colab_type": "code",
        "colab": {}
      },
      "source": [
        "## Visualize results and evaluate model\n",
        "\n",
        "def plot_image(i, predictions_array, true_label, img):\n",
        "  predictions_array, true_label, img = predictions_array, true_label[i], img[i]\n",
        "  plt.grid(False)\n",
        "  plt.xticks([])\n",
        "  plt.yticks([])\n",
        "\n",
        "  plt.imshow(img, cmap=plt.cm.binary)\n",
        "\n",
        "  predicted_label = np.argmax(predictions_array)\n",
        "  if predicted_label == true_label:\n",
        "    color = 'blue'\n",
        "  else:\n",
        "    color = 'red'\n",
        "\n",
        "  plt.xlabel(\"{} {:2.0f}% ({})\".format(class_names[predicted_label],\n",
        "                                100*np.max(predictions_array),\n",
        "                                class_names[true_label]),\n",
        "                                color=color)\n",
        "\n",
        "def plot_value_array(i, predictions_array, true_label):\n",
        "  predictions_array, true_label = predictions_array, true_label[i]\n",
        "  plt.grid(False)\n",
        "  plt.xticks(range(10))\n",
        "  plt.yticks([])\n",
        "  thisplot = plt.bar(range(10), predictions_array, color=\"#777777\")\n",
        "  plt.ylim([0, 1])\n",
        "  predicted_label = np.argmax(predictions_array)\n",
        "\n",
        "  thisplot[predicted_label].set_color('red')\n",
        "  thisplot[true_label].set_color('blue')\n"
      ],
      "execution_count": 0,
      "outputs": []
    },
    {
      "cell_type": "code",
      "metadata": {
        "id": "U74AwzTV6o0e",
        "colab_type": "code",
        "colab": {
          "base_uri": "https://localhost:8080/",
          "height": 405
        },
        "outputId": "c29029ec-60b1-41ce-db0b-297ecbc3a2ea"
      },
      "source": [
        "# Run test on first image\n",
        "\n",
        "i = 0\n",
        "plt.figure(figsize=(6,3))\n",
        "plt.subplot(1,2,1)\n",
        "plot_image(i, predictions[i], test_labels, test_images)\n",
        "plt.subplot(1,2,2)\n",
        "plot_value_array(i, predictions[i],  test_labels)\n",
        "plt.show()\n",
        "\n",
        "# Run test on second image\n",
        "\n",
        "\n",
        "i = 12\n",
        "plt.figure(figsize=(6,3))\n",
        "plt.subplot(1,2,1)\n",
        "plot_image(i, predictions[i], test_labels, test_images)\n",
        "plt.subplot(1,2,2)\n",
        "plot_value_array(i, predictions[i],  test_labels)\n",
        "plt.show()\n",
        "\n",
        "\n",
        "\n",
        "num_rows = 5\n",
        "num_cols = 3\n",
        "num_images = num_rows*num_cols\n",
        "plt.figure(figsize=(2*2*num_cols, 2*num_rows))\n",
        "\n",
        "for i in range(num_images):\n",
        "  plt.subplot(num_rows, 2*num_cols, 2*i+1)\n",
        "  plot_image(i, predictions[i], test_labels, test_images)\n",
        "  plt.subplot(num_rows, 2*num_cols, 2*i+2)\n",
        "  plot_value_array(i, predictions[i], test_labels)\n",
        "plt.tight_layout()\n",
        "plt.show()"
      ],
      "execution_count": 99,
      "outputs": [
        {
          "output_type": "display_data",
          "data": {
            "image/png": "[encoded data removed]",
            "text/plain": [
              "<Figure size 432x216 with 2 Axes>"
            ]
          },
          "metadata": {
            "tags": []
          }
        },
        {
          "output_type": "display_data",
          "data": {
            "image/png": "[encoded data removed]",
            "text/plain": [
              "<Figure size 432x216 with 2 Axes>"
            ]
          },
          "metadata": {
            "tags": []
          }
        }
      ]
    }
  ]
}