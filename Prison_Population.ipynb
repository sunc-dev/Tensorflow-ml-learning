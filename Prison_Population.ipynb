{
  "nbformat": 4,
  "nbformat_minor": 0,
  "metadata": {
    "colab": {
      "name": "Prison Population",
      "provenance": [],
      "collapsed_sections": [],
      "toc_visible": true,
      "authorship_tag": "ABX9TyPrmaZAfPAlT66JUi1rJziB",
      "include_colab_link": true
    },
    "kernelspec": {
      "name": "python3",
      "display_name": "Python 3"
    }
  },
  "cells": [
    {
      "cell_type": "markdown",
      "metadata": {
        "id": "view-in-github",
        "colab_type": "text"
      },
      "source": [
        "<a href=\"https://colab.research.google.com/github/sunc-dev/Tensorflow-ml-learning/blob/master/Prison_Population.ipynb\" target=\"_parent\"><img src=\"https://colab.research.google.com/assets/colab-badge.svg\" alt=\"Open In Colab\"/></a>"
      ]
    },
    {
      "cell_type": "code",
      "metadata": {
        "id": "EEezAapmTYyf",
        "colab_type": "code",
        "colab": {}
      },
      "source": [
        "import os\n",
        "import pandas as pd\n",
        "import numpy as np\n",
        "import matplotlib.pyplot as plt\n",
        "import plotly.graph_objects as go\n",
        "from pandas.plotting import scatter_matrix\n",
        "\n",
        "\n",
        "#google collab libraries\n",
        "from google.colab import drive\n",
        "\n",
        "#sklearn libraries\n",
        "from sklearn.model_selection import train_test_split\n",
        "from sklearn.model_selection import StratifiedShuffleSplit\n",
        "from sklearn.impute import SimpleImputer\n",
        "from sklearn.preprocessing import OrdinalEncoder\n",
        "from sklearn.preprocessing import OneHotEncoder\n",
        "from sklearn.base import BaseEstimator, TransformerMixin\n",
        "from sklearn.pipeline import Pipeline\n",
        "from sklearn.preprocessing import StandardScaler\n",
        "from sklearn.compose import ColumnTransformer\n",
        "from sklearn.linear_model import LinearRegression\n",
        "from sklearn.metrics import mean_squared_error\n",
        "from sklearn.tree import DecisionTreeRegressor\n",
        "from sklearn.model_selection import cross_val_score\n",
        "from sklearn.ensemble import RandomForestRegressor\n",
        "from sklearn.model_selection import GridSearchCV\n",
        "import joblib\n",
        "from sklearn.model_selection import RandomizedSearchCV\n",
        "from scipy.stats import randint\n",
        "from scipy import stats"
      ],
      "execution_count": 0,
      "outputs": []
    },
    {
      "cell_type": "code",
      "metadata": {
        "id": "JbTfXooXhHaI",
        "colab_type": "code",
        "colab": {
          "base_uri": "https://localhost:8080/",
          "height": 34
        },
        "outputId": "c7fc58ca-023b-4aa7-b851-8ae90673fe02"
      },
      "source": [
        "#mount google drive\n",
        "drive.mount('/content/drive')"
      ],
      "execution_count": 30,
      "outputs": [
        {
          "output_type": "stream",
          "text": [
            "Drive already mounted at /content/drive; to attempt to forcibly remount, call drive.mount(\"/content/drive\", force_remount=True).\n"
          ],
          "name": "stdout"
        }
      ]
    },
    {
      "cell_type": "code",
      "metadata": {
        "id": "KQZk7XcohVPm",
        "colab_type": "code",
        "colab": {}
      },
      "source": [
        "def load_data(path, options):\n",
        "  df = pd.read_csv(path, error_bad_lines=options)\n",
        "  return df"
      ],
      "execution_count": 0,
      "outputs": []
    },
    {
      "cell_type": "code",
      "metadata": {
        "id": "5D-XOTvZi1Dm",
        "colab_type": "code",
        "colab": {
          "base_uri": "https://localhost:8080/",
          "height": 272
        },
        "outputId": "735a5902-8cf2-469c-a5c8-44e44dfe9a49"
      },
      "source": [
        "# Define root paths\n",
        "\n",
        "root_path = '/content/drive/My Drive/Datasets/Crime/'\n",
        "path = os.path.join(root_path, 'crime_and_incarceration_by_state.csv')\n",
        "print(path)\n",
        "\n",
        "crime = load_data(path, False)\n"
      ],
      "execution_count": 33,
      "outputs": [
        {
          "output_type": "stream",
          "text": [
            "/content/drive/My Drive/Datasets/Crime/crime_and_incarceration_by_state.csv\n",
            "      jurisdiction  includes_jails  year  ...  burglary   larceny vehicle_theft\n",
            "0          FEDERAL           False  2001  ...       NaN       NaN           NaN\n",
            "1          ALABAMA           False  2001  ...   40642.0  119992.0       12619.0\n",
            "2           ALASKA            True  2001  ...    3847.0   16695.0        2618.0\n",
            "3          ARIZONA           False  2001  ...   54821.0  186850.0       52203.0\n",
            "4         ARKANSAS           False  2001  ...   22196.0   69590.0        7320.0\n",
            "..             ...             ...   ...  ...       ...       ...           ...\n",
            "811       VIRGINIA           False  2016  ...   20159.0  127285.0        9848.0\n",
            "812     WASHINGTON           False  2016  ...   49249.0  173423.0       32322.0\n",
            "813  WEST VIRGINIA           False  2016  ...    9127.0   25657.0        2498.0\n",
            "814      WISCONSIN           False  2016  ...   19498.0   82455.0        9958.0\n",
            "815        WYOMING           False  2016  ...    1771.0    8889.0         800.0\n",
            "\n",
            "[816 rows x 17 columns]\n"
          ],
          "name": "stdout"
        }
      ]
    },
    {
      "cell_type": "code",
      "metadata": {
        "id": "cJT8dFYIk8pU",
        "colab_type": "code",
        "colab": {
          "base_uri": "https://localhost:8080/",
          "height": 691
        },
        "outputId": "dff01c74-4ac2-4506-94c4-271fd43678fd"
      },
      "source": [
        "# Explore dataset\n",
        "\n",
        "# Look at top 5 elements\n",
        "crime.head(5)\n",
        "\n",
        "# Look at column and data types\n",
        "crime.info()\n",
        "crime.describe()"
      ],
      "execution_count": 36,
      "outputs": [
        {
          "output_type": "stream",
          "text": [
            "<class 'pandas.core.frame.DataFrame'>\n",
            "RangeIndex: 816 entries, 0 to 815\n",
            "Data columns (total 17 columns):\n",
            "jurisdiction              816 non-null object\n",
            "includes_jails            816 non-null bool\n",
            "year                      816 non-null int64\n",
            "prisoner_count            816 non-null int64\n",
            "crime_reporting_change    799 non-null object\n",
            "crimes_estimated          799 non-null object\n",
            "state_population          799 non-null float64\n",
            "violent_crime_total       799 non-null float64\n",
            "murder_manslaughter       799 non-null float64\n",
            "rape_legacy               749 non-null float64\n",
            "rape_revised              199 non-null float64\n",
            "robbery                   799 non-null float64\n",
            "agg_assault               799 non-null float64\n",
            "property_crime_total      799 non-null float64\n",
            "burglary                  799 non-null float64\n",
            "larceny                   799 non-null float64\n",
            "vehicle_theft             799 non-null float64\n",
            "dtypes: bool(1), float64(11), int64(2), object(3)\n",
            "memory usage: 102.9+ KB\n"
          ],
          "name": "stdout"
        },
        {
          "output_type": "execute_result",
          "data": {
            "text/html": [
              "<div>\n",
              "<style scoped>\n",
              "    .dataframe tbody tr th:only-of-type {\n",
              "        vertical-align: middle;\n",
              "    }\n",
              "\n",
              "    .dataframe tbody tr th {\n",
              "        vertical-align: top;\n",
              "    }\n",
              "\n",
              "    .dataframe thead th {\n",
              "        text-align: right;\n",
              "    }\n",
              "</style>\n",
              "<table border=\"1\" class=\"dataframe\">\n",
              "  <thead>\n",
              "    <tr style=\"text-align: right;\">\n",
              "      <th></th>\n",
              "      <th>year</th>\n",
              "      <th>prisoner_count</th>\n",
              "      <th>state_population</th>\n",
              "      <th>violent_crime_total</th>\n",
              "      <th>murder_manslaughter</th>\n",
              "      <th>rape_legacy</th>\n",
              "      <th>rape_revised</th>\n",
              "      <th>robbery</th>\n",
              "      <th>agg_assault</th>\n",
              "      <th>property_crime_total</th>\n",
              "      <th>burglary</th>\n",
              "      <th>larceny</th>\n",
              "      <th>vehicle_theft</th>\n",
              "    </tr>\n",
              "  </thead>\n",
              "  <tbody>\n",
              "    <tr>\n",
              "      <th>count</th>\n",
              "      <td>816.000000</td>\n",
              "      <td>816.000000</td>\n",
              "      <td>7.990000e+02</td>\n",
              "      <td>799.000000</td>\n",
              "      <td>799.000000</td>\n",
              "      <td>749.000000</td>\n",
              "      <td>199.000000</td>\n",
              "      <td>799.000000</td>\n",
              "      <td>799.000000</td>\n",
              "      <td>7.990000e+02</td>\n",
              "      <td>799.000000</td>\n",
              "      <td>799.000000</td>\n",
              "      <td>799.000000</td>\n",
              "    </tr>\n",
              "    <tr>\n",
              "      <th>mean</th>\n",
              "      <td>2008.500000</td>\n",
              "      <td>28606.033088</td>\n",
              "      <td>6.072322e+06</td>\n",
              "      <td>26228.459324</td>\n",
              "      <td>313.702128</td>\n",
              "      <td>1788.339119</td>\n",
              "      <td>2406.195980</td>\n",
              "      <td>7696.824781</td>\n",
              "      <td>16256.270338</td>\n",
              "      <td>1.878006e+05</td>\n",
              "      <td>40870.408010</td>\n",
              "      <td>127912.287860</td>\n",
              "      <td>19017.904881</td>\n",
              "    </tr>\n",
              "    <tr>\n",
              "      <th>std</th>\n",
              "      <td>4.612599</td>\n",
              "      <td>39556.940699</td>\n",
              "      <td>6.725500e+06</td>\n",
              "      <td>33866.838388</td>\n",
              "      <td>386.019821</td>\n",
              "      <td>1865.443299</td>\n",
              "      <td>2550.486639</td>\n",
              "      <td>11107.478615</td>\n",
              "      <td>20849.515589</td>\n",
              "      <td>2.138503e+05</td>\n",
              "      <td>47829.948836</td>\n",
              "      <td>139434.591858</td>\n",
              "      <td>30780.350362</td>\n",
              "    </tr>\n",
              "    <tr>\n",
              "      <th>min</th>\n",
              "      <td>2001.000000</td>\n",
              "      <td>1088.000000</td>\n",
              "      <td>4.937540e+05</td>\n",
              "      <td>496.000000</td>\n",
              "      <td>5.000000</td>\n",
              "      <td>99.000000</td>\n",
              "      <td>110.000000</td>\n",
              "      <td>43.000000</td>\n",
              "      <td>270.000000</td>\n",
              "      <td>8.806000e+03</td>\n",
              "      <td>1689.000000</td>\n",
              "      <td>6660.000000</td>\n",
              "      <td>178.000000</td>\n",
              "    </tr>\n",
              "    <tr>\n",
              "      <th>25%</th>\n",
              "      <td>2004.750000</td>\n",
              "      <td>5698.000000</td>\n",
              "      <td>1.790026e+06</td>\n",
              "      <td>5213.000000</td>\n",
              "      <td>48.500000</td>\n",
              "      <td>571.000000</td>\n",
              "      <td>780.000000</td>\n",
              "      <td>1106.000000</td>\n",
              "      <td>3529.000000</td>\n",
              "      <td>4.749750e+04</td>\n",
              "      <td>9406.000000</td>\n",
              "      <td>32765.500000</td>\n",
              "      <td>4191.000000</td>\n",
              "    </tr>\n",
              "    <tr>\n",
              "      <th>50%</th>\n",
              "      <td>2008.500000</td>\n",
              "      <td>16915.000000</td>\n",
              "      <td>4.314113e+06</td>\n",
              "      <td>15744.000000</td>\n",
              "      <td>179.000000</td>\n",
              "      <td>1238.000000</td>\n",
              "      <td>1723.000000</td>\n",
              "      <td>3933.000000</td>\n",
              "      <td>10083.000000</td>\n",
              "      <td>1.327730e+05</td>\n",
              "      <td>27698.000000</td>\n",
              "      <td>95079.000000</td>\n",
              "      <td>10583.000000</td>\n",
              "    </tr>\n",
              "    <tr>\n",
              "      <th>75%</th>\n",
              "      <td>2012.250000</td>\n",
              "      <td>30920.500000</td>\n",
              "      <td>6.808844e+06</td>\n",
              "      <td>31843.000000</td>\n",
              "      <td>429.000000</td>\n",
              "      <td>2092.000000</td>\n",
              "      <td>2680.000000</td>\n",
              "      <td>8702.000000</td>\n",
              "      <td>20308.000000</td>\n",
              "      <td>2.259575e+05</td>\n",
              "      <td>47941.000000</td>\n",
              "      <td>155688.000000</td>\n",
              "      <td>20872.500000</td>\n",
              "    </tr>\n",
              "    <tr>\n",
              "      <th>max</th>\n",
              "      <td>2016.000000</td>\n",
              "      <td>216915.000000</td>\n",
              "      <td>3.929648e+07</td>\n",
              "      <td>212867.000000</td>\n",
              "      <td>2503.000000</td>\n",
              "      <td>10198.000000</td>\n",
              "      <td>13702.000000</td>\n",
              "      <td>71142.000000</td>\n",
              "      <td>136087.000000</td>\n",
              "      <td>1.227194e+06</td>\n",
              "      <td>250521.000000</td>\n",
              "      <td>731486.000000</td>\n",
              "      <td>257543.000000</td>\n",
              "    </tr>\n",
              "  </tbody>\n",
              "</table>\n",
              "</div>"
            ],
            "text/plain": [
              "              year  prisoner_count  ...        larceny  vehicle_theft\n",
              "count   816.000000      816.000000  ...     799.000000     799.000000\n",
              "mean   2008.500000    28606.033088  ...  127912.287860   19017.904881\n",
              "std       4.612599    39556.940699  ...  139434.591858   30780.350362\n",
              "min    2001.000000     1088.000000  ...    6660.000000     178.000000\n",
              "25%    2004.750000     5698.000000  ...   32765.500000    4191.000000\n",
              "50%    2008.500000    16915.000000  ...   95079.000000   10583.000000\n",
              "75%    2012.250000    30920.500000  ...  155688.000000   20872.500000\n",
              "max    2016.000000   216915.000000  ...  731486.000000  257543.000000\n",
              "\n",
              "[8 rows x 13 columns]"
            ]
          },
          "metadata": {
            "tags": []
          },
          "execution_count": 36
        }
      ]
    },
    {
      "cell_type": "code",
      "metadata": {
        "id": "KqUTqjHllnd-",
        "colab_type": "code",
        "colab": {
          "base_uri": "https://localhost:8080/",
          "height": 292
        },
        "outputId": "2dc7ae3f-37b1-4471-f89a-f11fbf9ab64c"
      },
      "source": [
        "#Preparing the data for visualisations\n",
        "ids = ['jurisdiction',\n",
        "       'year'\n",
        "       ]\n",
        "\n",
        "dims = ['prisoner_count',\n",
        "              'state_population',        \n",
        "              'violent_crime_total',       \n",
        "              'murder_manslaughter',       \n",
        "              'rape_legacy',\n",
        "              'rape_revised',\n",
        "              'robbery',\n",
        "              'agg_assault',\n",
        "              'property_crime_total',\n",
        "              'burglary',\n",
        "              'larceny',\n",
        "              'vehicle_theft'\n",
        "              ]\n",
        "\n",
        "print(aggregates)\n",
        "\n",
        "crime_melt = crime.melt(id_vars = ids,\n",
        "                        value_vars=dims, \n",
        "                        var_name=\"type\",\n",
        "                        value_name=\"count\")\n",
        "\n",
        "print(crime_melt)"
      ],
      "execution_count": 48,
      "outputs": [
        {
          "output_type": "stream",
          "text": [
            "['prisoner_count', 'state_population', 'violent_crime_total', 'murder_manslaughter', 'rape_legacy', 'rape_revised', 'robbery', 'agg_assault', 'property_crime_total', 'burglary', 'larceny', 'vehicle_theft']\n",
            "       jurisdiction  year            type     count\n",
            "0           FEDERAL  2001  prisoner_count  149852.0\n",
            "1           ALABAMA  2001  prisoner_count   24741.0\n",
            "2            ALASKA  2001  prisoner_count    4570.0\n",
            "3           ARIZONA  2001  prisoner_count   27710.0\n",
            "4          ARKANSAS  2001  prisoner_count   11489.0\n",
            "...             ...   ...             ...       ...\n",
            "9787       VIRGINIA  2016   vehicle_theft    9848.0\n",
            "9788     WASHINGTON  2016   vehicle_theft   32322.0\n",
            "9789  WEST VIRGINIA  2016   vehicle_theft    2498.0\n",
            "9790      WISCONSIN  2016   vehicle_theft    9958.0\n",
            "9791        WYOMING  2016   vehicle_theft     800.0\n",
            "\n",
            "[9792 rows x 4 columns]\n"
          ],
          "name": "stdout"
        }
      ]
    },
    {
      "cell_type": "code",
      "metadata": {
        "id": "PC0XdrmjouIF",
        "colab_type": "code",
        "colab": {}
      },
      "source": [
        "#Prisoner counts per year"
      ],
      "execution_count": 0,
      "outputs": []
    }
  ]
}